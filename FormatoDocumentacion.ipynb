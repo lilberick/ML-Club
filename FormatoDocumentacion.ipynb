{
 "cells": [
  {
   "cell_type": "markdown",
   "id": "a597aadf-11d7-4a65-bec3-756636acf338",
   "metadata": {},
   "source": [
    "# TITULO"
   ]
  },
  {
   "cell_type": "markdown",
   "id": "d07f1bdc-8f79-4e05-9cd2-0cec1f0f8381",
   "metadata": {},
   "source": [
    "# INDICE"
   ]
  },
  {
   "cell_type": "markdown",
   "id": "8769b68a-82b2-4b07-a107-482de8257176",
   "metadata": {},
   "source": [
    "1. [Tema1](#1.-Tema1)  \n",
    "    1.1. [Subtitulo de tema1](#1.1.-Subtitulo-de-tema1)\n",
    "2. [Tema2](#2.-Tema2)  \n",
    "    2.1. [Subtitulo de tema2](#2.1.-Subtitulo-de-tema2)  \n",
    "    2.1.1. [Subsubtitulo de tema2](#2.1.1.-Subsubtitulo-de-tema2)\n",
    "3. [Referencias](#3.-Referencias)\n",
    "\n"
   ]
  },
  {
   "cell_type": "markdown",
   "id": "41acbc7a-5953-4e33-af7e-202bee5576df",
   "metadata": {
    "jp-MarkdownHeadingCollapsed": true
   },
   "source": [
    "# SCRIPTS"
   ]
  },
  {
   "cell_type": "code",
   "execution_count": 1,
   "id": "6b2ea26e-0b21-4fad-8ff0-4ab260d83d51",
   "metadata": {},
   "outputs": [],
   "source": [
    "#importamos librerias\n",
    "import pandas as pd"
   ]
  },
  {
   "cell_type": "code",
   "execution_count": 3,
   "id": "b9b353bd-52b1-476d-a220-6140eee2298c",
   "metadata": {},
   "outputs": [],
   "source": [
    "#funciones\n",
    "def CodigoEnigma():\n",
    "    print(\"Hola mundo\")"
   ]
  },
  {
   "cell_type": "markdown",
   "id": "915aedc4-750b-4162-9f09-d1542fa92502",
   "metadata": {},
   "source": [
    "# [1. Tema1](#INDICE)"
   ]
  },
  {
   "cell_type": "markdown",
   "id": "ef9cf2e9-3fcf-4f6c-8ec1-f68ea44e2b32",
   "metadata": {},
   "source": [
    "## [1.1. Subtitulo de tema1](#INDICE)"
   ]
  },
  {
   "cell_type": "markdown",
   "id": "97191fbc-a1aa-49b3-9a85-884fb48bd1bf",
   "metadata": {},
   "source": [
    "# [2. Tema2](#INDICE)"
   ]
  },
  {
   "cell_type": "markdown",
   "id": "03447d0b-3542-4e15-a089-08abc19f4a79",
   "metadata": {},
   "source": [
    "## [2.1. Subtitulo de tema2](#INDICE)"
   ]
  },
  {
   "cell_type": "markdown",
   "id": "7e6a32e7-18d2-4f4f-b940-a0434736422d",
   "metadata": {},
   "source": [
    "### [2.1.1. Subsubtitulo de tema2](#INDICE)"
   ]
  },
  {
   "cell_type": "markdown",
   "id": "f0d2a28f-9af9-47bb-adba-ef52004bda0a",
   "metadata": {},
   "source": [
    "# [3. Referencias](#INDICE)\n",
    "1. [google](https://www.google.com)\n",
    "2. [chatgpt](https://chat.openai.com)"
   ]
  },
  {
   "cell_type": "code",
   "execution_count": null,
   "id": "5275f200-a9a2-4425-b25f-a24ab0459b19",
   "metadata": {},
   "outputs": [],
   "source": []
  }
 ],
 "metadata": {
  "kernelspec": {
   "display_name": "Python 3 (ipykernel)",
   "language": "python",
   "name": "python3"
  },
  "language_info": {
   "codemirror_mode": {
    "name": "ipython",
    "version": 3
   },
   "file_extension": ".py",
   "mimetype": "text/x-python",
   "name": "python",
   "nbconvert_exporter": "python",
   "pygments_lexer": "ipython3",
   "version": "3.11.2"
  }
 },
 "nbformat": 4,
 "nbformat_minor": 5
}
