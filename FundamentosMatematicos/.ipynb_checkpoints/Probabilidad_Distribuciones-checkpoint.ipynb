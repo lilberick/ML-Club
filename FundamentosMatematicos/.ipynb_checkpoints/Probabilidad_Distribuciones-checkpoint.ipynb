{
 "cells": [
  {
   "cell_type": "markdown",
   "id": "57893965-27e8-47cc-adef-291caa13d9b5",
   "metadata": {},
   "source": [
    "<h1 style=\"color: lightseagreen\">Probability and Distributions</h1>"
   ]
  },
  {
   "cell_type": "markdown",
   "id": "0d4bb7ea",
   "metadata": {},
   "source": [
    "## INDICE\n",
    "\n",
    "1. [Probabilidad](#probabilidad)\n",
    "2. [Estadistica](#estadistica)\n",
    "    1. [Probabilidad Discreta](#prob-discreta)\n",
    "    2. [Probabilidad Continua](#prob-continua)\n",
    "3. [Distribuciones Discretas y Continuas](#dist-disc-continua)\n",
    "    1. [Distribución Discreta](#dist-disc)\n",
    "    1. [Distribución Continua](#dist-cont)\n",
    "4. [Axiomas de Probabilidad](#axiomas-prob)\n",
    "    1. [Regla de la suma](#regla-suma)\n",
    "    2. [Regla de la multiplicación](#regla-mult)\n",
    "5. [Probabilidad Condicional](#prob-cond)\n",
    "6. [Probabilidad Total](#prob-total)\n",
    "7. [Teorema de Bayes](#teorema-bayes)\n",
    "8. [Media o valor esperado](#media)\n",
    "    1. [Media para variable aleatoria discreta](#media-disc)\n",
    "        1. [Varianza y Desviación Estándar](#disc-var-std)\n",
    "    2. [Media para variable aleatoria continua](#media-cont)\n",
    "9. [Covarianza](#covarianza)\n",
    "10. [Correlación](#corr)"
   ]
  },
  {
   "cell_type": "markdown",
   "id": "354efbc0-0ecc-4233-9d43-1f90f7787262",
   "metadata": {
    "toc-hr-collapsed": true
   },
   "source": [
    "## <span style=\"color: mediumseagreen\" id=\"probabilidad\">Probabilidad</span>\n",
    "\n",
    "🏠 [Regresar al Índice](#INDICE)\n",
    "\n",
    "Medida de la certidumbre de que ocurra un evento. Su valor es un número entre 0 y 1, donde un evento imposible corresponde a `cero` y un evento seguro corresponde a `uno`\n",
    "\n",
    "* La teoría de la probabilidad tiene como `objetivo` definir una estructura matemática que describa salidas aleatorias de experimentos.\n",
    "    * Experimento aleatorio: experimentos en los que no se puede predecir su resultado.\n",
    "        * ejemplo: Cuando arrojamos una moneda, no podemos predecir con certeza el resultado individual, pero al repetir el experimento muchas veces, podemos observar una tendencia en el promedio de los resultados.\n",
    "\n",
    "* La probabilidad moderna esta basada en un conjunto de axiomas propuestos por `Kolmogorov`, que introduce tres conceptos:\n",
    "    * Espacio muestral $(\\Omega)$: En probabilidad es el conjunto de todos los resultados posibles de un experimento aleatorio.\n",
    "    * Evento $(A)$: Uno o varios de los posibles resultados del experimento.\n",
    "    * Probabilidad $(p)$: grado de creencia de que un evento ocurra.\n",
    "    * `Ejemplo 1:`\n",
    "    \n",
    "        Sea $\\varepsilon$(Experimento aleatorio) = sale un número par de lanzar un dado.\n",
    "        1. $\\Omega={1,2,3,4,5,6}$ \n",
    "        2. $A={2,4,6}$\n",
    "        3. $p(A)=\\frac{numero de elementos del conjunta A}{cantiad de elementos de \\Omega}$\n",
    "    * `Ejemplo 2:`\n",
    "    \n",
    "        Sea $\\varepsilon$ = sacar dos monedas de una maleta.\n",
    "        *Contexto: la maleta contiene monedas de USA(\\\\$) y UK(£) Se asume que la probabilidad de sacar aleatoriamente un `\\\\$ es 0.3`*\n",
    "        * Se tiene un $\\Omega$=(\\\\$,\\\\$),(\\\\$,£),(£,\\\\$),(£,£)\n",
    "        * Nuestro evento viene relacionado por la cantidad de veces que obtenemos un \\$.\n",
    "            * (\\\\$,\\\\$) = 2\n",
    "            * (\\\\$,£) = 1\n",
    "            * (£,\\\\$) = 1\n",
    "            * (£,£) = 0\n",
    "            \n",
    "        Para referirnos a las probabilidades sobre las cantidades de interes se usa la letra $\\tau$ donde para el espacio muestral:\n",
    "            * $\\tau={0,1,2}$\n",
    "        \n",
    "        * Finalmente, la probabilidad para cada evento en cuestión.\n",
    "        \n",
    "        **P(X=2)**\n",
    "                $$P(X=2) = P(\\$,\\$)    \n",
    "                =P(\\$)\\cdot P(\\$)  \n",
    "                =0.3\\cdot0.3=0.09$$\n",
    "                \n",
    "        **P(X=1)**\n",
    "                $$P(X=2) = (P(\\$,£)\\cup P(£,\\$))     \n",
    "                =P(\\$,£) + P(£,\\$) \n",
    "                =0.3\\cdot (1-0.3) + (1-0.3)\\cdot 0.3=0.42$$\n",
    "        \n",
    "        **P(X=0)**\n",
    "                $$P(X=2) = P(£,£)    \n",
    "                =P(£)\\cdot P(£)  \n",
    "                =(1-0.3)\\cdot (1-0.3)=0.49$$\n",
    "                \n",
    "## <span style=\"color: mediumseagreen\" id=\"estadistica\">Estadística</span>\n",
    "\n",
    "🏠 [Regresar al Índice](#INDICE)\n",
    "\n",
    "Usando la probabilidad, podemos considerar un modelo de algún proceso en el que la incertidumbre subyacente está representada por variables aleatorias, y utilizamos las reglas de probabilidad para derivar lo que sucede. En estadísticas, observamos que algo ha ocurrido e intentamos entender el proceso subyacente que explica esas observaciones.\n",
    "\n",
    "### <span style=\"color: seagreen\" id=\"prob-discreta\">Probabilidad Discreta</span>\n",
    "\n",
    "🏠 [Regresar al Índice](#INDICE)\n",
    "\n",
    "Cuando el espacio objetivo es discreto, podemos imaginar la distribución de probabilidad de múltiples variables aleatorias como completando un arreglo (multidimensional) de números. El espacio objetivo de la probabilidad conjunta es el producto cartesiano de los espacios objetivos de cada una de las variables aleatorias. Definimos la probabilidad conjunta como la entrada de ambos valores de manera conjunta.\n",
    "\n",
    "$$P(X=x_{i},Y=y_{j})=\\frac{n_{ij}}{N}$$\n",
    "\n",
    "`Ejemplo`\n",
    "\n",
    "<table border=\"1\">\n",
    "  <tr>\n",
    "    <td>Y 1, X 1</td>\n",
    "    <td>Fila 1, Columna 2</td>\n",
    "    <td>Fila 1, Columna 3</td>\n",
    "    <td>Fila 1, Columna 4</td>\n",
    "    <td>Fila 1, Columna 5</td>\n",
    "    <td>Fila 1, Columna 6</td>\n",
    "  </tr>\n",
    "  <tr>\n",
    "    <td>Fila 2, Columna 1</td>\n",
    "    <td>Fila 2, Columna 2</td>\n",
    "    <td>Fila 2, Columna 3</td>\n",
    "    <td>Fila 2, Columna 4</td>\n",
    "    <td>Fila 2, Columna 5</td>\n",
    "    <td>Fila 2, Columna 6</td>\n",
    "  </tr>\n",
    "  <tr>\n",
    "    <td>Fila 3, Columna 1</td>\n",
    "    <td>Fila 3, Columna 2</td>\n",
    "    <td>Fila 3, Columna 3</td>\n",
    "    <td>Fila 3, Columna 4</td>\n",
    "    <td>Fila 3, Columna 5</td>\n",
    "    <td>Fila 3, Columna 6</td>\n",
    "  </tr>\n",
    "</table>\n",
    "\n",
    "La probabilidad marginal de cada variable aleatoria, puede ser vista como la suma sobre una fila o columna\n",
    "\n",
    "$$P(X=x_{i})=\\frac{c_{i}}{N}=\\frac{\\sum_{j=1}^{3}n_{ij}}{N}$$\n",
    "\n",
    "$$P(Y=y_{i})=\\frac{r_{i}}{N}=\\frac{\\sum_{j=1}^{5}n_{ij}}{N}$$\n",
    "\n",
    "donde se asume que ambas sumatorias son iguales a `1`. $n_{ij}=número de eventos del estado$\n",
    "\n",
    "Las probabilidades condicionales son una fracción de una fila o columna en una celda en particular:\n",
    "\n",
    "$$P(Y = y_{j} | X = x_{i}) = \\frac{n_{ij}}{c_{i}}$$\n",
    "\n",
    "$$P(X = x_{i} | Y = y_{j}) = \\frac{n_{ij}}{r_{j}}$$\n",
    "\n",
    "* $c_{i}$ = suma de las frecuencias individuales para cada $ith$ columna\n",
    "* $r_{j}$ = suma de las frecuencias individuales para cada $jth$ fila\n",
    "\n",
    "### <span style=\"color: seagreen\" id=\"prob-continua\">Probabilidad Continua</span>\n",
    "🏠 [Regresar al Índice](#INDICE)\n",
    "\n",
    "En esta sección consideramos variables aleatorias con valores reales, es decir, consideramos espacios objetivo que son intervalos de la línea real $\\Re$\n",
    "\n",
    "En espacios continuos, existen dos particularidades adicionales que pueden resultar contraintuitivas. En primer lugar, el conjunto de todos los subconjuntos (utilizados para definir el espacio de eventos $A$) no es lo suficientemente manejable. $A$ debe estar restringido para comportarse adecuadamente en cuanto a complementos de conjuntos, intersecciones y uniones de conjuntos. En segundo lugar, el tamaño de un conjunto (que en espacios discretos se puede obtener contando los elementos) resulta ser complicado. El tamaño de un conjunto se llama su medida. Por ejemplo, la cardinalidad de conjuntos discretos, la longitud de un intervalo en $\\Re$ y el volumen de una región en $\\Re^{d}$ son todas medidas. Los conjuntos que se comportan bien bajo operaciones de conjunto y además tienen una topología se llaman σ-álgebra de Borel.\n",
    "\n",
    "**Función de densidad de probabilidad: f(x)** nos ayuda a calcular la probabilidad de que la variable aleatoria X asuma un valor en el intervalor que va desde a hasta b\n",
    "    * X: variable aleatoria continua (incontable)\n",
    "    * f(x): función de densidad de probabilidad\n",
    "    \n",
    "$$\\int_{a}^{b}f(x) \\,dx$$\n",
    "\n",
    "Condiciones:\n",
    "1. $f(X)>=0$\n",
    "2. area bajo la curva de densidad es igual a 1\n",
    "\n",
    "`Ejemplo`\n",
    "La variable aleatoria continua X tiene la siguiente función de densidad de probabilidad\n",
    "$$f(x) = \\begin{cases}\n",
    "0.25, & \\text{si } 0 \\leq x \\leq 4 \\\\\n",
    "0, & \\text{de lo contrario}\n",
    "\\end{cases}$$\n",
    "\n",
    "Calcular:\n",
    "1. $P(1<=x<=3)$\n",
    "2. $P(x=1)$\n",
    "3. $P(1<x<=3)$\n",
    "4. $P(1<x<=4)$"
   ]
  },
  {
   "cell_type": "code",
   "execution_count": 1,
   "id": "acaaacc6-78b7-48ed-8fb7-be29ef1fff7f",
   "metadata": {
    "tags": []
   },
   "outputs": [
    {
     "name": "stdout",
     "output_type": "stream",
     "text": [
      "1. Probabilidad = 50.00%\n",
      "2. Probabilidad = 0 No admite valores discretos\n",
      "3. Probabilidad = 50.00% P(a<x<=b)=P(a<=x<=b) ya que p(a=x) = 0\n",
      "4. Probabilidad = 75.00%\n"
     ]
    },
    {
     "data": {
      "image/png": "[encoded data removed]",
      "text/plain": [
       "<Figure size 800x300 with 1 Axes>"
      ]
     },
     "metadata": {},
     "output_type": "display_data"
    }
   ],
   "source": [
    "# Solución\n",
    "import numpy as np\n",
    "import matplotlib.pyplot as plt\n",
    "\n",
    "# Definir los puntos de x y los valores correspondientes de f(x)\n",
    "x = np.linspace(-2, 6, 1000)\n",
    "y = np.piecewise(x, [x < 0, (0 <= x) & (x <= 4), x > 4], [0, 0.25, 0])\n",
    "\n",
    "# Crear la gráfica\n",
    "fig, ax = plt.subplots(figsize=(8,3))\n",
    "ax.plot(x, y)\n",
    "plt.xlabel('x')\n",
    "plt.ylabel('f(x)')\n",
    "plt.title('Ejercicio')\n",
    "plt.axvline(x=0,color='r',linestyle='--',label='x=0')\n",
    "plt.axvline(x=1,color='orange',linestyle='--',label='x=1')\n",
    "plt.axvline(x=3,color='g',linestyle='--',label='x=3')\n",
    "plt.axvline(x=4,color='purple',linestyle='--',label='x=4')\n",
    "plt.legend()\n",
    "plt.grid(True)\n",
    "\n",
    "print(f\"1. Probabilidad = {(3-1)*(0.25)*100:.2f}%\")\n",
    "print(f\"2. Probabilidad = {0} No admite valores discretos\")\n",
    "print(f\"3. Probabilidad = {(3-1)*(0.25)*100:.2f}% P(a<x<=b)=P(a<=x<=b) ya que p(a=x) = 0\") \n",
    "print(f\"4. Probabilidad = {(4-1)*(0.25)*100:.2f}%\")"
   ]
  },
  {
   "cell_type": "markdown",
   "id": "dbe670bf-e04d-4d8e-85cf-43d6b2c7bb34",
   "metadata": {},
   "source": [
    "**Función de distribución acumulativa: F(x)** Es la función que para un valor x, nos da la probabilidad de que la variable aleatoria sea menor o igual que dicho valor x, es decir:\n",
    "\n",
    "$$F(x) = P(X<=x)$$\n",
    "* Variable aleatoria = X (mayúscula)\n",
    "* valor de la variable aleatoria = x (minúscula)\n",
    "\n",
    "`Ejemplo:`\n",
    "$$F(x) = \\begin{cases}\n",
    "0, & \\text{si } x < 0 \\\\\n",
    "0.2x, & \\text{si } 0 \\leq x \\leq 5 \\\\\n",
    "1, & \\text{si } x > 5\n",
    "\\end{cases}$$\n",
    "\n",
    "1. P(X<=2)\n",
    "2. P(X<=3)\n",
    "3. P(X>2)\n",
    "4. P(2<=X<=3)"
   ]
  },
  {
   "cell_type": "code",
   "execution_count": 2,
   "id": "399a87fe-13de-46fe-bf5b-c3b18762301a",
   "metadata": {
    "tags": []
   },
   "outputs": [
    {
     "data": {
      "image/png": "[encoded data removed]",
      "text/plain": [
       "<Figure size 600x300 with 1 Axes>"
      ]
     },
     "metadata": {},
     "output_type": "display_data"
    }
   ],
   "source": [
    "import numpy as np\n",
    "import matplotlib.pyplot as plt\n",
    "\n",
    "# Definir un rango de valores de x\n",
    "x = np.linspace(-1, 10, 400)  # Puedes ajustar el rango según tus necesidades\n",
    "\n",
    "# Definir la función F(x)\n",
    "def F(x):\n",
    "    if x < 0:\n",
    "        return 0\n",
    "    elif 0 <= x <= 5:\n",
    "        return 0.2 * x\n",
    "    else:\n",
    "        return 1\n",
    "\n",
    "# Aplicar la función F a cada valor de x\n",
    "y = [F(xi) for xi in x]\n",
    "\n",
    "# Crear la gráfica\n",
    "fig, ax = plt.subplots(figsize=(6,3))\n",
    "ax.plot(x, y, label='$F(x)$')\n",
    "\n",
    "# Etiquetas y leyenda\n",
    "plt.xlabel('x')\n",
    "plt.ylabel('$F(x)$')\n",
    "plt.title('Gráfica de $F(x)$')\n",
    "plt.axvline(x=3,color='purple',linestyle='--',label='x=3')\n",
    "plt.axvline(x=2,color='r',linestyle='--',label='x=2')\n",
    "plt.legend()\n",
    "\n",
    "# Colorear el área\n",
    "plt.fill_between(x, y, where=(x >= 2) & (x <= 3), color='crimson', alpha=0.5)\n",
    "plt.fill_between(x, y, where=(x < 2), color='gold', alpha=0.5)\n",
    "plt.fill_between(x, y, where=(x > 3), color='lime', alpha=0.5)\n",
    "\n",
    "# Mostrar la gráfica\n",
    "plt.grid(True)\n",
    "plt.show()"
   ]
  },
  {
   "cell_type": "code",
   "execution_count": 3,
   "id": "a89fbe8f-e4e6-4ba6-ae2e-546aca889ed9",
   "metadata": {
    "tags": []
   },
   "outputs": [],
   "source": [
    "from scipy.integrate import quad\n",
    "def area_under_curve(x):\n",
    "    return 0.2*x\n",
    "\n",
    "primer_punto = 0.2*2\n",
    "segundo_punto = 0.2*3"
   ]
  },
  {
   "cell_type": "markdown",
   "id": "a08ad0fa-d592-4952-8e98-f35d56d79e9d",
   "metadata": {
    "tags": []
   },
   "source": [
    "<h4 style=\"color: red\">Nota 1</h4>\n",
    "Si queremos la probabilidad de que X>2, entonces nos apoyamos en la función de distribución de la probabilidad, donde sabemos que el area bajo la curva siempre es 1. Por tal motivo si calculamos el area bajo la curva menor a 2 y a 1 le restamos ese valor, obtenemos el area bajo la probabilidad de X sea mayor a 2\n",
    "\n",
    "$$P(X>a) = 1 - P(X<=a)$$"
   ]
  },
  {
   "cell_type": "code",
   "execution_count": 4,
   "id": "931efa12-c824-4b2a-96c3-d7866317eb39",
   "metadata": {
    "tags": []
   },
   "outputs": [],
   "source": [
    "tercer_punto = round(1-quad(area_under_curve,0,2)[0],2)"
   ]
  },
  {
   "cell_type": "markdown",
   "id": "eeac899f-cead-4cf4-a918-dd417b3d52ab",
   "metadata": {
    "tags": []
   },
   "source": [
    "<h4 style=\"color: red\">Nota 2</h4>\n",
    "$P(a<=x<=b)=$ area bajo la curva de densidad entre <b>a</b> y <b>b</b>\n",
    "\n",
    "Podemos cálcularlo mediante el cáclulo del area bajo la curva a la izquireda de b y luego a la izquierda de a, de tal forma que podamos restar el area de b con la de a y obtener el resultado esperado."
   ]
  },
  {
   "cell_type": "code",
   "execution_count": 5,
   "id": "9d61b0d2-720f-4751-9ccb-7adee2d9961e",
   "metadata": {
    "tags": []
   },
   "outputs": [
    {
     "name": "stdout",
     "output_type": "stream",
     "text": [
      "1. Su probabilidad es: 40.00%\n",
      "2. Su probabilidad es: 60.00%\n",
      "3. Su probabilidad es: 60.00%\n",
      "4. Su probabilidad es: 20.00%\n"
     ]
    }
   ],
   "source": [
    "cuarto_punto = segundo_punto - primer_punto\n",
    "print(f\"1. Su probabilidad es: {primer_punto*100:.2f}%\")\n",
    "print(f\"2. Su probabilidad es: {segundo_punto*100:.2f}%\")\n",
    "print(f\"3. Su probabilidad es: {tercer_punto*100:.2f}%\")\n",
    "print(f\"4. Su probabilidad es: {cuarto_punto*100:.2f}%\")"
   ]
  },
  {
   "cell_type": "markdown",
   "id": "e1c9b58e-4eea-400c-92d3-0fc7dfdf12a1",
   "metadata": {
    "toc-hr-collapsed": true
   },
   "source": [
    "## <span style=\"color: mediumseagreen\" id=\"dist-disc-continua\">Distribuciones Discretas y Continuas</span>\n",
    "\n",
    "🏠 [Regresar al Índice](#INDICE)\n",
    "\n",
    "### <span style=\"color: orangered\" id=\"dist-disc\">Distribuciones discretas</span>\n",
    "\n",
    "1. Distribución binomial\n",
    "\n",
    "    Esta distribución se aplica cuando la probabilidad del éxito esperado siempre será la misma.\n",
    "    `Por ejemplo: `\n",
    "    * Al arrojar una moneda n veces y salga cara x veces.\n",
    "    * Al arrojar un dado 10 veces y salga 4 veces la cara 1.\n",
    "    * Dentro de un grupo de 10 personas la probabilidad de que contraigan alguna enfermedad 5 personas.\n",
    "    \n",
    "    Esta compuesta por el tamaño de la muestra, número de éxitos esperados y la probabilidad de éxito.\n",
    "    \n",
    "    $$P(x,n,p) = \\begin{pmatrix} n\\\\x \\end{pmatrix} \\cdot p^x \\cdot (1-p)^{n-x}$$"
   ]
  },
  {
   "cell_type": "code",
   "execution_count": 6,
   "id": "df4460a1-298d-42b3-a435-1106fb94bf67",
   "metadata": {
    "tags": []
   },
   "outputs": [
    {
     "name": "stdout",
     "output_type": "stream",
     "text": [
      "La probabilidad de obtener el número 1 exactamente 4 veces al lanzar un dado 10 veces es: 5.43%\n"
     ]
    }
   ],
   "source": [
    "import math\n",
    "\n",
    "def binomial_probability(x, n, p):\n",
    "    # Calcula la combinación binomial utilizando math.comb\n",
    "    binomial_coefficient = math.comb(n, x)\n",
    "    \n",
    "    # Calcula la probabilidad usando la fórmula\n",
    "    probability = binomial_coefficient * (p**x) * ((1-p)**(n-x))\n",
    "    \n",
    "    return probability\n",
    "\n",
    "n = 10  # Número de lanzamientos del dado\n",
    "x = 4   # Número de veces que se obtiene el número 1\n",
    "p = 1/6  # Probabilidad de obtener el número 1 en un lanzamiento\n",
    "\n",
    "probability = binomial_probability(x, n, p)\n",
    "print(f\"La probabilidad de obtener el número 1 exactamente 4 veces al lanzar un dado 10 veces es: {probability*100:.2f}%\")"
   ]
  },
  {
   "cell_type": "markdown",
   "id": "c9424c7d-35c5-4e57-9ffe-7e5780938e6f",
   "metadata": {},
   "source": [
    "2. Distribución Hipergeométrica\n",
    "\n",
    "    Esta distribución normalmente se plantean que de una población o conjunto \"N\", se extrae una muestra \"n\", dentro de la cual se espera que \"x\" veces ocurra un evento que también esta ocurriendo \"k\" veces en la población.\n",
    "    `Por ejemplo: `\n",
    "    * Población de vacas, 6 con manchas negras y 4 con manchas cafes => N\n",
    "    * Muestra => n => 3 vacas\n",
    "    * Evento => x => se esperan 2 vacas con manchas cafes.\n",
    "    * En la población identificamos las vacas con manchas cafes => k => 4 vacas con manchas cafes.\n",
    "    \n",
    "    $$P(x,m,k,N) = \\frac{\\begin{pmatrix} k\\\\x\\end{pmatrix}\\begin{pmatrix}N-k\\\\n-x\\end{pmatrix}}{\\begin{pmatrix}N\\\\n\\end{pmatrix}}$$"
   ]
  },
  {
   "cell_type": "code",
   "execution_count": 7,
   "id": "b7994097-fba0-4a82-9d8b-fc45e2fdc44f",
   "metadata": {
    "tags": []
   },
   "outputs": [
    {
     "name": "stdout",
     "output_type": "stream",
     "text": [
      "30.0 %\n"
     ]
    }
   ],
   "source": [
    "from scipy.special import comb\n",
    "\n",
    "def calculate_probability(x, m, k, N):\n",
    "    numerator = comb(k, x) * comb(N - k, m - x)\n",
    "    denominator = comb(N, m)\n",
    "    probability = numerator / denominator\n",
    "    return probability\n",
    "\n",
    "x = 2  # Reemplaza con el valor deseado de x\n",
    "m = 3  # Reemplaza con el valor deseado de m\n",
    "k = 4  # Reemplaza con el valor deseado de k\n",
    "N = 10  # Reemplaza con el valor deseado de N\n",
    "\n",
    "result = calculate_probability(x, m, k, N)\n",
    "print(round(result*100,2),\"%\")"
   ]
  },
  {
   "cell_type": "markdown",
   "id": "6a7912f2-811f-46d2-b864-6692f4ab0893",
   "metadata": {},
   "source": [
    "3. Distribución de Poisson\n",
    "\n",
    "    * Habla de promedios de ocurrencias dentro de un periodo determinado $\\lambda$\n",
    "    * Plantea el experimento en una población grande y con una probabilidad de éxito pequeña $\\lambda = N \\cdot p$, donde N es el tamaño de la población y p la probabilidad de éxito\n",
    "    \n",
    "$$P(x,\\lambda) = \\frac{e^{-\\lambda}\\cdot \\lambda^x}{x!}$$\n",
    "\n",
    "donde x es el **Número de éxitos esperados**\n",
    "\n",
    "`Ejemplo: `"
   ]
  },
  {
   "cell_type": "code",
   "execution_count": 8,
   "id": "80b1cb92-53cd-465c-a02b-9460136311ab",
   "metadata": {
    "tags": []
   },
   "outputs": [
    {
     "name": "stdout",
     "output_type": "stream",
     "text": [
      "La probabilidad de obtener 3 eventos en un intervalo con lambda=2.5 es: 0.2138\n"
     ]
    }
   ],
   "source": [
    "import math\n",
    "\n",
    "def poisson_probability(x, lmbda):\n",
    "    return (math.exp(-lmbda) * lmbda**x) / math.factorial(x)\n",
    "\n",
    "x = 3  # Reemplaza con el valor deseado de x\n",
    "lmbda = 2.5  # Reemplaza con el valor deseado de lambda\n",
    "\n",
    "probability = poisson_probability(x, lmbda)\n",
    "print(\"La probabilidad de obtener {} eventos en un intervalo con lambda={} es: {:.4f}\".format(x, lmbda, probability))"
   ]
  },
  {
   "cell_type": "markdown",
   "id": "7c2f6b40-cb2b-4e32-9b29-3dc61c70f1b3",
   "metadata": {},
   "source": [
    "### <span style=\"color: orangered\" id=\"dist-cont\">Distribuciones continuas</span>\n",
    "\n",
    "🏠 [Regresar al Índice](#INDICE)\n",
    "\n",
    "1. **Distribución Uniforme**\n",
    "\n",
    "Se caracteriza por una función de densidad que es \"plana\", y por ello la probabilidad es uniforme en un intervalo cerrado\n",
    "\n",
    "`Ejemplo: `"
   ]
  },
  {
   "cell_type": "code",
   "execution_count": 9,
   "id": "3b72ac08-21f7-41b4-9707-d5dcebf3e115",
   "metadata": {
    "tags": []
   },
   "outputs": [
    {
     "data": {
      "image/png": "[encoded data removed]",
      "text/plain": [
       "<Figure size 600x200 with 1 Axes>"
      ]
     },
     "metadata": {},
     "output_type": "display_data"
    },
    {
     "name": "stdout",
     "output_type": "stream",
     "text": [
      "Probabilidad de la zona roja es: 25.00%\n",
      "Probabilidad de la zona verde es: 50.00\n"
     ]
    }
   ],
   "source": [
    "import numpy as np\n",
    "\n",
    "# Definir los parámetros de la distribución uniforme\n",
    "a = 1  # Extremo inferior del intervalo\n",
    "b = 10  # Extremo superior del intervalo\n",
    "\n",
    "# Definir un rango de valores de x\n",
    "x = np.linspace(-1, 12, 400)  # Puedes ajustar el rango según tus necesidades\n",
    "\n",
    "# Definir la función F(x)\n",
    "def F(x):\n",
    "    if x < 2:\n",
    "        return 0\n",
    "    elif 0 <= x <= 10:\n",
    "        return 5\n",
    "    else:\n",
    "        return 0\n",
    "\n",
    "# Aplicar la función F a cada valor de x\n",
    "y = [F(xi) for xi in x]\n",
    "\n",
    "# Crear la gráfica\n",
    "fig, ax = plt.subplots(figsize=(6,2))\n",
    "fig = ax.plot(x, y, label='$F(x)$')\n",
    "plt.xlabel('x')\n",
    "plt.ylabel('f(x)')\n",
    "plt.fill_between(x, y, where=(x >= 2) & (x <= 4), color='crimson', alpha=0.5)\n",
    "plt.fill_between(x, y, where=(x >= 6) & (x <= 10), color='green', alpha=0.5)\n",
    "plt.title('Distribución Uniforme')\n",
    "plt.grid(True)\n",
    "\n",
    "# Mostrar el gráfico\n",
    "plt.show()\n",
    "print(f\"Probabilidad de la zona roja es: {(1/4)*100:.2f}%\\nProbabilidad de la zona verde es: {(1/2)*100:.2f}\")"
   ]
  },
  {
   "cell_type": "markdown",
   "id": "524063a7-8a4c-4964-ac51-324bfe865ea5",
   "metadata": {},
   "source": [
    "2. **Distribución normal**\n",
    "\n",
    "Describe aproximadamente muchos fénomenos que ocurren en la naturaleza, la industria y la investigación. Presenta un valor de máxima frecuencia n, a partir del cual, decae hacia ambos lados con una simetría perfecta. Esta simetría hace que a valores situados a igual distancia del valor modal por izquierda y por derecha de la distribución, les corresponda la misma probabilidad.\n",
    "\n"
   ]
  },
  {
   "cell_type": "code",
   "execution_count": 10,
   "id": "ca0a35c6-2fbd-4caa-bf7a-964d6ef565ef",
   "metadata": {
    "tags": []
   },
   "outputs": [
    {
     "data": {
      "image/png": "[encoded data removed]",
      "text/plain": [
       "<Figure size 800x300 with 1 Axes>"
      ]
     },
     "metadata": {},
     "output_type": "display_data"
    }
   ],
   "source": [
    "import numpy as np\n",
    "import matplotlib.pyplot as plt\n",
    "\n",
    "# Definir los parámetros de la distribución normal\n",
    "mu = 0  # Media\n",
    "sigma = 1  # Desviación estándar\n",
    "\n",
    "# Generar datos para la distribución normal\n",
    "data = np.random.normal(mu, sigma, 1000)\n",
    "\n",
    "# Crear un histograma para visualizar la distribución\n",
    "fig, ax = plt.subplots(figsize=(8,3))\n",
    "ax.hist(data, bins=30, density=True, alpha=0.6, color='b')\n",
    "\n",
    "# Calcular la función de densidad de probabilidad (PDF) de la distribución normal\n",
    "x = np.linspace(mu - 3*sigma, mu + 3*sigma, 100)\n",
    "pdf = (1 / (sigma * np.sqrt(2 * np.pi))) * np.exp(-0.5 * ((x - mu) / sigma) ** 2)\n",
    "\n",
    "# Graficar la función de densidad de probabilidad\n",
    "plt.plot(x, pdf, 'r-', lw=2)\n",
    "\n",
    "plt.xlabel('Valores')\n",
    "plt.ylabel('Densidad de Probabilidad')\n",
    "plt.title('Distribución Normal')\n",
    "plt.grid(True)\n",
    "\n",
    "# Mostrar el gráfico\n",
    "plt.show()"
   ]
  },
  {
   "cell_type": "markdown",
   "id": "c8f12a7c-beef-4e96-b162-ec39a95d3b0a",
   "metadata": {},
   "source": [
    "3. **Distribución Normal Estandar**\n",
    "\n",
    "Una distribución normal se denomina estandarizada si su media es 0 y su desviación estandar es igual a 1\n",
    "\n",
    "Transformar una distribución normal en una estandar en la tabla de Z (Normalmente estas distribuciones acumulan desde -$\\infty$ hasta z)\n",
    "\n",
    "$$Z_i = \\frac{X_i - \\mu}{\\sigma}$$\n",
    "\n",
    "* $\\mu$ = media de la distribución normal\n",
    "* $\\sigma$ = desviación estandar del problema\n",
    "\n",
    "<table border=\"1\" cellpadding=\"5\" cellspacing=\"0\">\n",
    "    <thead>\n",
    "      <tr>\n",
    "        <th>z</th>\n",
    "        <th>0</th>\n",
    "        <th>0.06</th>\n",
    "        <th>0.12</th>\n",
    "        <th>0.18</th>\n",
    "        <th>0.24</th>\n",
    "        <th>0.30</th>\n",
    "        <th>0.36</th>\n",
    "        <th>0.42</th>\n",
    "        <th>0.48</th>\n",
    "        <th>0.54</th>\n",
    "        <th>0.60</th>\n",
    "      </tr>\n",
    "    </thead>\n",
    "    <tbody>\n",
    "      <tr>\n",
    "        <td>0</td>\n",
    "        <td>0.5000</td>\n",
    "        <td>0.5039</td>\n",
    "        <td>0.5078</td>\n",
    "        <td>0.5116</td>\n",
    "        <td>0.5154</td>\n",
    "        <td>0.5191</td>\n",
    "        <td>0.5228</td>\n",
    "        <td>0.5264</td>\n",
    "        <td>0.5301</td>\n",
    "        <td>0.5339</td>\n",
    "        <td>0.5375</td>\n",
    "      </tr>\n",
    "      <tr>\n",
    "        <td>0.1</td>\n",
    "        <td>0.5398</td>\n",
    "        <td>0.5438</td>\n",
    "        <td>0.5478</td>\n",
    "        <td>0.5517</td>\n",
    "        <td>0.5557</td>\n",
    "        <td>0.5596</td>\n",
    "        <td>0.5636</td>\n",
    "        <td>0.5675</td>\n",
    "        <td>0.5714</td>\n",
    "        <td>0.5753</td>\n",
    "        <td>0.5793</td>\n",
    "      </tr>\n",
    "      <tr>\n",
    "        <td>0.2</td>\n",
    "        <td>0.5793</td>\n",
    "        <td>0.5832</td>\n",
    "        <td>0.5871</td>\n",
    "        <td>0.5910</td>\n",
    "        <td>0.5948</td>\n",
    "        <td>0.5987</td>\n",
    "        <td>0.6026</td>\n",
    "        <td>0.6064</td>\n",
    "        <td>0.6103</td>\n",
    "        <td>0.6141</td>\n",
    "        <td>0.6179</td>\n",
    "      </tr>\n",
    "      <tr>\n",
    "        <td>0.3</td>\n",
    "        <td>0.6179</td>\n",
    "        <td>0.6217</td>\n",
    "        <td>0.6255</td>\n",
    "        <td>0.6293</td>\n",
    "        <td>0.6331</td>\n",
    "        <td>0.6368</td>\n",
    "        <td>0.6406</td>\n",
    "        <td>0.6443</td>\n",
    "        <td>0.6480</td>\n",
    "        <td>0.6517</td>\n",
    "        <td>0.6554</td>\n",
    "      </tr>\n",
    "      <tr>\n",
    "        <td>0.4</td>\n",
    "        <td>0.6554</td>\n",
    "        <td>0.6591</td>\n",
    "        <td>0.6628</td>"
   ]
  },
  {
   "cell_type": "markdown",
   "id": "28ea3c2d-2ca7-47af-aab5-a329814cc88e",
   "metadata": {},
   "source": [
    "4. **Distribución t de estudiante**\n",
    "\n",
    "    Es una distribución de probabilidad que surge del problema de estimar la media de una población normalmente distribuida cuando el tamaño de la muestra es pequeño\n",
    "    \n",
    "5. **Distribución de Chi cuadrado**\n",
    "\n",
    "    La distribución $x^2$ tiene muchas aplicaciones en inferencia estadística. La más conocida es la de la denominada `prueba de chi cuadrado` utilizada como prueba de independencia y como prueba de bondad de ajuste y en la estimación de varianzas.\n",
    "    \n",
    "6. **Distribución F**\n",
    "\n",
    "    Usada en la teoría de probabilidad y estadística, la distribución F es una distribución de probabilidad continua utilizada para `análisis de varianza`. También se le conoce como distribución F de Snedecor (Por George Snedecor) o como distribución F de Fisher-Snedecor"
   ]
  },
  {
   "cell_type": "markdown",
   "id": "e6598069-4b44-4b64-9b56-d4bb12f99d20",
   "metadata": {
    "toc-hr-collapsed": true
   },
   "source": [
    "## <span style=\"color: mediumseagreen\" id=\"axiomas-prob\">Axiomas de probabilidad</span>\n",
    "\n",
    "🏠 [Regresar al Índice](#INDICE)\n",
    "\n",
    "1. $P(A)>=0$\n",
    "2. $P(\\Omega)=1$\n",
    "3. $P(A\\cup B)=P(A)+P(B)$\n",
    "\n",
    "Donde se desprenden los siguientes teoremas\n",
    "\n",
    "1. $P(\\cup_{n=1}^{n} A_i)= \\sum_{i=1}^{n} P(A_i)$\n",
    "    Probabilidad de que la union de varios eventos es la suma de sus probabilidades\n",
    "2. Si no son mutuamente excluyentes\n",
    "    $P(A\\cup B)=P(A)+P(B)-P(A\\cap B)$\n",
    "3. Complemento de un evento A\n",
    "    $P(A) = 1-P(\\overline{A})$\n",
    "\n",
    "### <span style=\"color: orangered\" id=\"regla-suma\">Regla de la suma</span>\n",
    "\n",
    "🏠 [Regresar al Índice](#INDICE)\n",
    "\n",
    "Tenemos dos casos:\n",
    "\n",
    "1. Sucesos mutuamente excluyentes: $P(A\\cup B)=P(A)-P(B)$\n",
    "\n",
    "2. Sucesos no excluyentes: $P(A\\cup B)=P(A)+P(B)-P(A\\cap B)$\n",
    "\n",
    "`Ejemplo: `\n",
    "En una ciudad el **60%** de las personas tienen ojos negros, el **80%** cabello negro y el **50%** tienen ojos y cabello negro. Si se selecciona una persona al azar, ¿Cuál es la probabilidad de:\n",
    "\n",
    "1. No tenga ojos negros?\n",
    "2. Tenga ojos o cabello negro\n",
    "\n",
    "<table>\n",
    "    <thead>\n",
    "    <tr>\n",
    "        <th colspan=\"4\">\n",
    "            Ciudad\n",
    "        </th>\n",
    "    </tr>\n",
    "    </thead>\n",
    "    <tbody>\n",
    "        <tr>\n",
    "            <td rowspan=\"5\" style=\"vertical-align: center; font-weight:700; color: seagreen\">Cabello</td>\n",
    "            <td colspan=\"4\" style=\"text-align: center; font-weight:700; color: seagreen\">Ojos</td>\n",
    "        </tr>\n",
    "        <tr>\n",
    "            <td>Variables</td>\n",
    "            <td>Negros</td>\n",
    "            <td>No negros</td>\n",
    "            <td>Total</td>\n",
    "        </tr>\n",
    "        <tr>\n",
    "            <td>Negros</td>\n",
    "            <td>50%</td>\n",
    "            <td style=\"color: green\">30%</td>\n",
    "            <td>80%</td>\n",
    "        </tr>\n",
    "        <tr>\n",
    "            <td>No negros</td>\n",
    "            <td style=\"color: green\">10%</td>\n",
    "            <td style=\"color: green\">10%</td>\n",
    "            <td style=\"color: green\">20%</td>\n",
    "        </tr>\n",
    "        <tr>\n",
    "            <td>Total</td>\n",
    "            <td>60%</td>\n",
    "            <td style=\"color: green\">40%</td>\n",
    "            <td style=\"color: green\">100%</td>\n",
    "        </tr>\n",
    "    </tbody>\n",
    "</table>"
   ]
  },
  {
   "cell_type": "code",
   "execution_count": 11,
   "id": "199f0ff1-b7b8-4146-b095-d929c474e270",
   "metadata": {
    "tags": []
   },
   "outputs": [
    {
     "name": "stdout",
     "output_type": "stream",
     "text": [
      "1. 40%\n",
      "2. P(Cabello negro) = 80%, P(Ojos negros)=60%\n",
      "   P(ON N CN)=50%\n",
      "   P(ONUCN) = 60% + 80% - 50% = 90%\n"
     ]
    }
   ],
   "source": [
    "print(f\"1. 40%\")\n",
    "print(f\"2. P(Cabello negro) = 80%, P(Ojos negros)=60%\\n   P(ON N CN)=50%\\n   P(ONUCN) = 60% + 80% - 50% = 90%\")"
   ]
  },
  {
   "cell_type": "markdown",
   "id": "e65798d1-2672-4080-9544-abf98deff652",
   "metadata": {},
   "source": [
    "### <span style=\"color: orangered\" id=\"regla-mult\">Regla de la multiplicación</span>\n",
    "\n",
    "🏠 [Regresar al Índice](#INDICE)\n",
    "\n",
    "Se usa cuando queremos encontrar la probabilidad de que 2 o mas eventos ocurran a la vez\n",
    "\n",
    "1. Eventos independientes: $P(A\\cap B)=P(A)\\cdot P(B)$\n",
    "2. Eventos dependientes:\n",
    "    * $P(A\\cap B)=P(A)\\cdot P(B|A)$\n",
    "    * $P(A\\cap B)=P(B)\\cdot P(A|B)$\n",
    "\n",
    "\n",
    "`Ejemplo: `\n",
    "\n",
    "En una urna hay 5 esferas azules, 2 rojas y una verde. Si se sacan 2 esferas consecutivas al azar `sin reemplazo`, Cálcule la probabilidad de:\n",
    "1. La primera es azul y la segunda verde\n",
    "2. Las 2 sean rojas"
   ]
  },
  {
   "cell_type": "code",
   "execution_count": 12,
   "id": "a267e004-ee31-4d7b-abb8-2d634ab2deb7",
   "metadata": {
    "tags": []
   },
   "outputs": [
    {
     "name": "stdout",
     "output_type": "stream",
     "text": [
      "1. La probabilidad de que la primera sea azul y la segunda verde es de 8.93%\n",
      "2. La probabilidad de que ambas sean rojas es de 3.57%\n"
     ]
    }
   ],
   "source": [
    "esferas = {'azules':5, 'rojas':2, 'verdes':1}\n",
    "\n",
    "numero_casos = sum(esferas.values())\n",
    "azules = esferas['azules']\n",
    "prob_azules = azules/numero_casos\n",
    "prob_verde_primera_azul = esferas['verdes']/(numero_casos-1) # ya que 1 esfera azul fue seleccionada\n",
    "print(f\"1. La probabilidad de que la primera sea azul y la segunda verde es de {prob_azules*prob_verde_primera_azul*100:.2f}%\")\n",
    "prob_rojas = esferas['rojas']/numero_casos\n",
    "prob_rojas_primera_roja = (esferas['rojas']-1)/(numero_casos-1) # 1 roja menos en la urna\n",
    "print(f\"2. La probabilidad de que ambas sean rojas es de {prob_rojas*prob_rojas_primera_roja*100:.2f}%\")"
   ]
  },
  {
   "cell_type": "markdown",
   "id": "8a2f6b99-f473-4724-82f0-7828c7f341eb",
   "metadata": {},
   "source": [
    "`Ejemplo 2`\n",
    "\n",
    "Si repito el ejercicio anterior pero ahora `Con reemplazo`"
   ]
  },
  {
   "cell_type": "code",
   "execution_count": 13,
   "id": "a2f5a581-061d-40a3-bace-833c30f3b41c",
   "metadata": {
    "tags": []
   },
   "outputs": [
    {
     "name": "stdout",
     "output_type": "stream",
     "text": [
      "1. La probabilidad de que la primera sea azul y la segunda verde es de 7.81%\n",
      "2. La probabilidad de que ambas sean rojas es de 6.25%\n"
     ]
    }
   ],
   "source": [
    "prob_verde_primera_azul = esferas['verdes']/(numero_casos) # No se quita 1 porque la que fue seleccionada fue reemplazada\n",
    "prob_roja_primera_roja = esferas['rojas']/numero_casos\n",
    "print(f\"1. La probabilidad de que la primera sea azul y la segunda verde es de {prob_azules*prob_verde_primera_azul*100:.2f}%\")\n",
    "print(f\"2. La probabilidad de que ambas sean rojas es de {prob_rojas*prob_roja_primera_roja*100:.2f}%\")"
   ]
  },
  {
   "cell_type": "markdown",
   "id": "a0d4b6ae-d3d5-4524-9726-4e5ac77f9e84",
   "metadata": {},
   "source": [
    "`Ejemplo 3`\n",
    "\n",
    "En una empresa se fabrican balones, con las siguientes probabilidades: **60%** son de futbol, el resto de baloncesto. La probabilidad de que un balón de futbol o baloncesto salga defectuoso es de **0.05** y **0.03** respectivamente. Si se selecciona 1 al azar. ¿Cúal es la probabilidad de que sea un balón de futbol defectuoso?"
   ]
  },
  {
   "cell_type": "code",
   "execution_count": 14,
   "id": "efd906b5-f3c4-41ce-a686-677f6bcf53c9",
   "metadata": {
    "tags": []
   },
   "outputs": [
    {
     "name": "stdout",
     "output_type": "stream",
     "text": [
      "La probabilidad es de 3.00%\n"
     ]
    }
   ],
   "source": [
    "p_futbol = 0.6\n",
    "p_baloncesto = 0.4\n",
    "p_futbol_defectuoso = 0.05 # P(F|D)\n",
    "p_baloncesto_defectuoso = 0.03 # P(B|D)\n",
    "print(f\"La probabilidad es de {p_futbol*p_futbol_defectuoso*100:.2f}%\")"
   ]
  },
  {
   "cell_type": "markdown",
   "id": "f7cec70e-2553-4e8d-8a23-5aef2b2bccdf",
   "metadata": {
    "tags": [],
    "toc-hr-collapsed": true
   },
   "source": [
    "## <span style=\"color: mediumseagreen\" id=\"prob-cond\">Probabilidad condicional</span>\n",
    "\n",
    "🏠 [Regresar al Índice](#INDICE)\n",
    "\n",
    "`Ejemplo:`\n",
    "\n",
    "De los 40 estudiantes de mi curso, a 25 les gusta las matemáticas, a 20 les gusta el ingles y a 6 las 2 materias, **si se selecciona a un estudiante que le gustan las matemáticas** ¿Cuál es la probabilidad de que le guste el ingles?"
   ]
  },
  {
   "cell_type": "markdown",
   "id": "200384d0-f4d1-4e19-a3e1-a1794e60f420",
   "metadata": {
    "jupyter": {
     "outputs_hidden": true
    },
    "tags": []
   },
   "source": [
    "##### %conda install -c conda-forge matplotlib-venn"
   ]
  },
  {
   "cell_type": "code",
   "execution_count": 15,
   "id": "cea5491e-bb52-49aa-8066-2d853286f106",
   "metadata": {},
   "outputs": [
    {
     "name": "stdout",
     "output_type": "stream",
     "text": [
      "La probabilidad es: 24.00%\n"
     ]
    },
    {
     "data": {
      "image/png": "[encoded data removed]",
      "text/plain": [
       "<Figure size 800x300 with 1 Axes>"
      ]
     },
     "metadata": {},
     "output_type": "display_data"
    }
   ],
   "source": [
    "from matplotlib_venn import venn2\n",
    "\n",
    "items = [19,14,6]\n",
    "labels = ['Matemáticas','Ingles']\n",
    "\n",
    "fig, ax = plt.subplots(figsize=(8,3))\n",
    "venn2(subsets=items, set_labels=labels, set_colors=('salmon','lightblue'),alpha=0.7);\n",
    "# Agregar el número fuera del diagrama\n",
    "plt.title(\"Curso\")\n",
    "plt.text(-0.7, 0.7, '1', size=10, ha='center', va='center');\n",
    "\n",
    "p_ingles_mates = items[-1]/sum([items[0],items[-1]])\n",
    "print(f\"La probabilidad es: {p_ingles_mates*100:.2f}%\")"
   ]
  },
  {
   "cell_type": "markdown",
   "id": "c7c17544-df70-4023-9142-af3dcd0ffe9b",
   "metadata": {},
   "source": [
    "## <span style=\"color: mediumseagreen\" id=\"prob-total\">Probabilidad Total</span>\n",
    "\n",
    "🏠 [Regresar al Índice](#INDICE)\n",
    "\n",
    "`Ejemplo`\n",
    "\n",
    "En una urna hay 5 esferas azules, 2 rojas y 1 verde.Si se sacan 2 esferas consecutivas al azar **con reemplazo**. Calcular la probabilidad de sacar una esfera azul y una verde\n",
    "\n",
    "$P(AV) = P(A\\cap V) +P(V\\cap A)$"
   ]
  },
  {
   "cell_type": "code",
   "execution_count": 16,
   "id": "9f721fa2-a5d9-4015-a144-f81bcce7344b",
   "metadata": {},
   "outputs": [
    {
     "name": "stdout",
     "output_type": "stream",
     "text": [
      "La probabilidad es de: 15.62%\n"
     ]
    }
   ],
   "source": [
    "esferas = {'azules':5,'rojas':2,'verdes':1}\n",
    "p_azul = esferas['azules']/sum(esferas.values())\n",
    "p_verde = esferas['verdes']/sum(esferas.values())\n",
    "p_av = p_azul * p_verde + p_azul * p_verde\n",
    "print(f\"La probabilidad es de: {p_av*100:.2f}%\")"
   ]
  },
  {
   "cell_type": "markdown",
   "id": "663d69b1-75b0-4acd-8cc0-dd2eb97d5468",
   "metadata": {},
   "source": [
    "## <span style=\"color: mediumseagreen\" id=\"teorema-bayes\">Teorema de Bayes</span>\n",
    "\n",
    "🏠 [Regresar al Índice](#INDICE)\n",
    "\n",
    "Es una aplicación de la probabilidad condicional.\n",
    "\n",
    "Con el teorema, si tenemos $P(A|B)$, podemos llegar a $P(B|A)$\n",
    "\n",
    "Está hecho para aplicarse varias veces consecutivas. Se usa en:\n",
    "\n",
    "1. Medicina\n",
    "2. Tecnología\n",
    "3. Neurología\n",
    "4. Negocios\n",
    "\n",
    "$P(A|B) = \\frac{P(B|A)\\cdot P(A)}{P(B)}$\n",
    "\n",
    "Si los eventos $A_1,A_2,...,A_n$ son mutuamente excluyentes con $P(A_i)\\neq 0.$.Si ocurre un evento B con $P(B)\\neq 0$ Entonces\n",
    "\n",
    "$$P(A_k|B) = \\frac{P(B|A_k)\\cdot P(A_k)}{\\sum_{i=1}^{n} P(B|A_i)\\cdot P(A_i)}$$"
   ]
  },
  {
   "cell_type": "markdown",
   "id": "37b4c58e-b0f6-40c3-9af2-3f967f408e60",
   "metadata": {},
   "source": [
    "`EJEMPLO`\n",
    "\n",
    "Se tienen 2 urnas. La urna 1 contiene 3 bolas azules, 2 rojas. La urna 2 contiene 4 bolas azules y 1 roja. **Si se elige una urna al azar y se extrae una bola y esta resulta ser roja** ¿Cuál es la probabilidad de que provenga de la urna 1?"
   ]
  },
  {
   "cell_type": "code",
   "execution_count": 27,
   "id": "65d52bee-8016-48e7-8441-d68008309203",
   "metadata": {
    "tags": []
   },
   "outputs": [
    {
     "name": "stdout",
     "output_type": "stream",
     "text": [
      "La probabilidad de que salga de la urna 1 la bola roja es: 66.67%\n"
     ]
    }
   ],
   "source": [
    "# Variables\n",
    "total_urnas = 2\n",
    "total_bolas_urna = 5\n",
    "bolas_azules_urna_1 = 3\n",
    "bolas_azules_urna_2 = 4\n",
    "bolas_rojas_urna_1 = 2\n",
    "bolas_rojas_urna_2 = 1\n",
    "\n",
    "# probabilidades\n",
    "prob_urna = 1/total_urnas\n",
    "prob_azul_urna_1 = bolas_azules_urna_1/total_bolas_urna\n",
    "prob_azul_urna_2 = bolas_azules_urna_2/total_bolas_urna\n",
    "prob_roja_urna_1 = bolas_rojas_urna_1/total_bolas_urna\n",
    "prob_roja_urna_2 = bolas_rojas_urna_2/total_bolas_urna\n",
    "\n",
    "# probabilidad de que salga roja dentro de la urna 1 por probabilidad urna 1\n",
    "prob_roja_urna1_urna1 = prob_roja_urna_1 * prob_urna\n",
    "prob_roja_urna2_urna2 = prob_roja_urna_2 * prob_urna\n",
    "\n",
    "# probabilidad de que salga roja\n",
    "prob_roja = prob_roja_urna1_urna1 + prob_roja_urna2_urna2\n",
    "\n",
    "# probabilidad de que salga la urna 1 si ya se extrajo una bola roja\n",
    "bayes_teorem = prob_roja_urna1_urna1/prob_roja\n",
    "print(f\"La probabilidad de que salga de la urna 1 la bola roja es: {bayes_teorem*100:.2f}%\")"
   ]
  },
  {
   "cell_type": "markdown",
   "id": "4a33e5e6-5f02-479a-ad2b-6cdc0ea852f7",
   "metadata": {},
   "source": [
    "## <span style=\"color: mediumseagreen\" id=\"media\">Media o Valor esperado</span>\n",
    "\n",
    "🏠 [Regresar al Índice](#INDICE)\n",
    "\n",
    "### <span style=\"color: orangered\" id=\"media-disc\">Media o valor esperado de una variable aleatoria discreta</span>\n",
    "\n",
    "`Ejemplo `\n",
    "\n",
    "Sea X el número de autos vendidos en un día en una tienda. Calcular el valor esperado de X a partir de su función de probabilidad\n",
    "\n",
    "<table>\n",
    "    <thead>\n",
    "        <tr>\n",
    "            <th>x</th>\n",
    "            <th>0</th>\n",
    "            <th>1</th>\n",
    "            <th>2</th>\n",
    "            <th>3</th>\n",
    "        </tr>\n",
    "    </thead>\n",
    "    <tbody>\n",
    "        <tr>\n",
    "            <td>f(x)</td>\n",
    "            <td>0.60</td>\n",
    "            <td>0.25</td>\n",
    "            <td>0.10</td>\n",
    "            <td>0.05</td>\n",
    "        </tr>\n",
    "    </tbody>\n",
    "</table>\n",
    "\n",
    "**Media o valor esperado**\n",
    "\n",
    "$\\mu = E(x) = \\sum_{n=1}^{n} x_n\\cdot f(x_n)$"
   ]
  },
  {
   "cell_type": "code",
   "execution_count": 33,
   "id": "2d1f5296-1010-4bc3-974b-e672cb7ec492",
   "metadata": {
    "tags": []
   },
   "outputs": [
    {
     "name": "stdout",
     "output_type": "stream",
     "text": [
      "Media o valor esperado: 0.60, es decir se espera vender 0.6 autos por día.\n",
      "En 30 días se espera vender: 18.00\n"
     ]
    }
   ],
   "source": [
    "media = 0*0.6 + 1*0.25 + 2*0.1 + 3*0.05\n",
    "print(f\"Media o valor esperado: {media:.2f}, es decir se espera vender 0.6 autos por día.\")\n",
    "# ¿Cuantos se esperarían vender en 30 días?\n",
    "print(f\"En 30 días se espera vender: {media*30:.2f}\")"
   ]
  },
  {
   "cell_type": "markdown",
   "id": "02c1c7f7-a1a7-4d3a-8129-a4cea827f4b6",
   "metadata": {},
   "source": [
    "`Ejemplo 2`\n",
    "\n",
    "Si se lanza un dado normal cual es su valor esperado?"
   ]
  },
  {
   "cell_type": "code",
   "execution_count": 39,
   "id": "8ae4a644-f0c1-4a9b-9d05-c530f9aaa1d8",
   "metadata": {
    "tags": []
   },
   "outputs": [
    {
     "name": "stdout",
     "output_type": "stream",
     "text": [
      "La media o valor esperado es: 3.5\n"
     ]
    }
   ],
   "source": [
    "caras = [1,2,3,4,5,6]\n",
    "media = sum(list(map(lambda x: x*1/6, caras)))\n",
    "print(\"La media o valor esperado es:\",media)"
   ]
  },
  {
   "cell_type": "markdown",
   "id": "dd0f1e93-01a8-4533-bf3c-95fbd7049125",
   "metadata": {},
   "source": [
    "#### <span style=\"color: darkturquoise\" id=\"disc-var-std\">Valor esperado, varianza y desviación estándar</span>\n",
    "\n",
    "🏠 [Regresar al Índice](#INDICE)\n",
    "\n",
    "`Ejemplo`\n",
    "\n",
    "Calcular la media(valor esperado), la varianza y la desviación estandar de la variable aleatoria discreta x\n",
    "\n",
    "<table>\n",
    "    <thead>\n",
    "        <tr>\n",
    "            <th>x</th>\n",
    "            <th>0</th>\n",
    "            <th>1</th>\n",
    "            <th>2</th>\n",
    "        </tr>\n",
    "    </thead>\n",
    "    <tbody>\n",
    "        <tr>\n",
    "            <td>f(x)</td>\n",
    "            <td>0.25</td>\n",
    "            <td>0.50</td>\n",
    "            <td>0.25</td>\n",
    "        </tr>\n",
    "    </tbody>\n",
    "</table>\n",
    "\n",
    "**Varianza**\n",
    "\n",
    "* $\\sigma^2 = V(x) = \\sum (x-\\mu )^2 \\cdot f(x)$\n",
    "\n",
    "* $\\sigma^2 = V(x) = \\sum (x^2 \\cdot f(x)) - \\mu^2$\n",
    "\n",
    "**Desviación Estándar**\n",
    "\n",
    "desviación estandar = $\\sigma = \\sqrt{\\sigma^2}$"
   ]
  },
  {
   "cell_type": "code",
   "execution_count": 54,
   "id": "7bedf056-39ac-416a-99e8-9d98b32cd1f3",
   "metadata": {
    "tags": []
   },
   "outputs": [
    {
     "name": "stdout",
     "output_type": "stream",
     "text": [
      "La media es: 1.0\n",
      "La varianza es: 0.5\n",
      "La desviación estandar es: 0.71\n"
     ]
    }
   ],
   "source": [
    "f_x = [0.25, 0.5, 0.25]\n",
    "count = 0\n",
    "def valor_esperado(f_x):\n",
    "    global count\n",
    "    resultado = f_x * count\n",
    "    count += 1\n",
    "    return resultado\n",
    "    \n",
    "media = sum(list(map(valor_esperado, f_x)))\n",
    "varianza = 0\n",
    "conteo = 0\n",
    "for prob in f_x:\n",
    "    varianza += (conteo**2)*prob\n",
    "    conteo += 1\n",
    "varianza -= media\n",
    "std = round(varianza**(0.5),2)\n",
    "print(f\"La media es: {media}\")\n",
    "print(f\"La varianza es: {varianza}\")\n",
    "print(f\"La desviación estandar es: {std}\")"
   ]
  },
  {
   "cell_type": "markdown",
   "id": "d724c990-ecef-4d4f-b36a-b6f75e6c9597",
   "metadata": {},
   "source": [
    "### <span style=\"color: orangered\" id=\"media-cont\">Media, varianza, desviación estandar de una variable continua</span>\n",
    "\n",
    "🏠 [Regresar al Índice](#INDICE)\n",
    "\n",
    "**Media o valor esperado**\n",
    "\n",
    "$\\mu = E(X) = \\int_{-\\infty}^{\\infty} x\\cdot f(x) dx$\n",
    "\n",
    "**Varianza**\n",
    "\n",
    "* $\\sigma^2 = V(X) = \\int_{-\\infty}^{\\infty} (x-\\mu)^2 \\cdot f(x) dx$\n",
    "\n",
    "* $\\sigma^2 = V(X) = \\int_{-\\infty}^{\\infty} x^2 \\cdot f(x) dx - \\mu^2$\n",
    "\n",
    "**Desviación estándar**\n",
    "\n",
    "$\\sigma = \\sqrt{\\sigma^2}$\n",
    "\n",
    "`Ejemplo`\n",
    "\n",
    "La variable aleatoria continua **x** tiene la siguiente función de densidad de probabilidad\n",
    "\n",
    "$$f(x) = \\begin{cases}\n",
    "1-\\frac{x}{2}, & \\text{si } 0\\leq x\\leq 2 \\\\\n",
    "0, & \\text{en caso contrario }\n",
    "\\end{cases}$$\n",
    "\n",
    "Calcular la media, la varianza y la desviación estándar de x"
   ]
  },
  {
   "cell_type": "code",
   "execution_count": 66,
   "id": "890ce44b-ffd3-441f-8d76-ec67610bc713",
   "metadata": {
    "tags": []
   },
   "outputs": [
    {
     "data": {
      "image/png": "[encoded data removed]",
      "text/plain": [
       "<Figure size 500x300 with 1 Axes>"
      ]
     },
     "metadata": {},
     "output_type": "display_data"
    }
   ],
   "source": [
    "fig, ax = plt.subplots(figsize=(5,3))\n",
    "\n",
    "x = np.linspace(-1,3,200)\n",
    "\n",
    "# Definir la función F(x)\n",
    "def F(x):\n",
    "    if 0 <= x <= 2:\n",
    "        return 1-(x/2)\n",
    "    else:\n",
    "        return 0\n",
    "\n",
    "# Aplicar la función F a cada valor de x\n",
    "y = [F(xi) for xi in x]\n",
    "\n",
    "ax.plot(x,y,label='$F(x)$')\n",
    "plt.xlabel('x')\n",
    "plt.ylabel('f(x)')\n",
    "plt.title('Ejemplo')\n",
    "plt.text(0.5,0.8,\"f(x)=1-x/2\",color=\"crimson\",fontsize='x-large')\n",
    "plt.axvline(x=0,color='crimson',linestyle='--')\n",
    "plt.axvline(x=2,color='crimson',linestyle=\"--\")\n",
    "plt.grid(True)\n",
    "plt.show()"
   ]
  },
  {
   "cell_type": "code",
   "execution_count": 75,
   "id": "89ffac1d-4c3e-4087-bd10-8216dd7457da",
   "metadata": {
    "tags": []
   },
   "outputs": [
    {
     "name": "stdout",
     "output_type": "stream",
     "text": [
      "Resultados:\n",
      "Media: 0.67\n",
      "Varianza: 0.22\n",
      "Desviación Estándar: 0.47\n"
     ]
    }
   ],
   "source": [
    "# Solución\n",
    "#from scipy.integrate import quad\n",
    "def media_int(x):\n",
    "    return x*(1-(x/2))\n",
    "\n",
    "def varianza_int(x):\n",
    "    return (x**2)*(1-(x/2))\n",
    "\n",
    "media = round(quad(media_int,0,2)[0],2)\n",
    "varianza = round(quad(varianza_int,0,2)[0]-media**2,2)\n",
    "std = round(varianza**(1/2),2)\n",
    "print(f\"Resultados:\\nMedia: {media}\\nVarianza: {varianza}\\nDesviación Estándar: {std}\")"
   ]
  },
  {
   "cell_type": "markdown",
   "id": "b8c39cf4-d3ac-4a85-bae0-5d2bb97186b8",
   "metadata": {},
   "source": [
    "<h4 style=\"color:red\">Nota</h4>\n",
    "\n",
    "La media, varianza y desviación estándar vistas son cuando tenemos las probabilidades de los datos, por lo cual es distinto de la media usual. Para ello de manera normal estas se trabajan con las siguientes formulas\n",
    "\n",
    "1. **Media**\n",
    "\n",
    "La media es una medida de tendencia central que se define como la suma de todos los valores de un conjunto de datos, dividida por el número de valores.\n",
    "\n",
    "$\\overline{X} = \\sum_{n=1}^{n} X_i/N$, donde N es el total de datos\n",
    "\n",
    "2. **Varianza**\n",
    "\n",
    "La varianza es una medida de dispersión que se define como la media de los cuadrados de las desviaciones de cada valor de un conjunto de datos de su media.\n",
    "\n",
    "$\\sigma^2 = \\frac{\\sum_{n=1}^{n} (X_i-\\overline{X})}{N}$\n",
    "\n",
    "3. **Desviación estándar**\n",
    "\n",
    "La desviación estándar es una medida de la dispersión de los valores de un conjunto de datos alrededor de su media. Una desviación estándar alta indica que los valores están dispersos de manera más amplia, mientras que una desviación estándar baja indica que los valores están más concentrados alrededor de la media.\n",
    "\n",
    "$\\sigma = \\sqrt{\\sigma^2}$"
   ]
  },
  {
   "cell_type": "markdown",
   "id": "644406c0-a419-4989-89a7-9e15fdb2e211",
   "metadata": {},
   "source": [
    "## <span style=\"color: mediumseagreen\" id=\"covarianza\">Covarianza</span>\n",
    "\n",
    "🏠 [Regresar al Índice](#INDICE)\n",
    "\n",
    "La covarianza es una medida de la relación lineal entre dos variables aleatorias. Se define como la media de los productos de las desviaciones de cada variable de su media.\n",
    "\n",
    "* $Cov(X, Y) = \\frac{\\sum_{i=1}^n (X_i - \\mu_X)(Y_i - \\mu_Y)}{n}$\n",
    "\n",
    "* $Cov(X, Y) = \\frac{\\sum_{i=1}^n X_i\\cdot Y_i}{n} - \\overline{X}\\cdot \\overline{Y}$\n",
    "\n",
    "donde:\n",
    "\n",
    "* $X_i$ es el valor i-ésimo de la variable aleatoria X\n",
    "* $Y_i$es el valor i-ésimo de la variable aleatoria Y\n",
    "* $\\mu_X$es la media de la variable aleatoria X\n",
    "* $\\mu_X$es la media de la variable aleatoria Y\n",
    "* n es el número de observaciones\n",
    "\n",
    "Interpretación:\n",
    "\n",
    "* **Covarianza positiva:** Las dos variables tienden a moverse en la misma dirección. A medida que un valor aumenta, el otro valor también aumenta.\n",
    "* **Covarianza negativa:** Las dos variables tienden a moverse en direcciones opuestas. A medida que un valor aumenta, el otro valor disminuye.\n",
    "* **Covarianza cero:** No hay relación lineal entre las dos variables.\n",
    "\n",
    "`Ejemplo`"
   ]
  },
  {
   "cell_type": "code",
   "execution_count": 82,
   "id": "199b4fb1-7c76-403c-8431-60f24861c335",
   "metadata": {
    "tags": []
   },
   "outputs": [
    {
     "name": "stdout",
     "output_type": "stream",
     "text": [
      "La covarianza es 2.84\n"
     ]
    }
   ],
   "source": [
    "x = [6,4,8,9,4,8,10,9,5,6]\n",
    "y = [5,5,7,5,3,8,10,8,7,6]\n",
    "\n",
    "xy = sum([var[0]*var[1] for var in list(zip(x,y))])\n",
    "media_x = np.mean(x)\n",
    "media_y = np.mean(y)\n",
    "n = len(x) if len(y)==len(x) else print(\"error\")\n",
    "\n",
    "covarianza = (xy/n) - (media_x*media_y)\n",
    "print(\"La covarianza es\",round(covarianza,2))"
   ]
  },
  {
   "cell_type": "markdown",
   "id": "96c0a92c-4602-4746-afcf-0eb41ef84383",
   "metadata": {},
   "source": [
    "La magnitud de la covarianza se puede comparar con un rango de valores que indica la fuerza de la relación. En general, se considera que una covarianza es:\n",
    "\n",
    "* Debil: Si su valor absoluto es menor que 0.3.\n",
    "* Moderada: Si su valor absoluto es entre 0.3 y 0.6.\n",
    "* Fuerte: Si su valor absoluto es mayor que 0.6.\n",
    "\n",
    "Sin embargo, es importante tener en cuenta que estos rangos son solo una guía general. La magnitud de la covarianza también depende de la escala de las variables. Por ejemplo, una covarianza de 0.3 podría ser considerada fuerte si las variables están en escalas muy grandes."
   ]
  },
  {
   "cell_type": "markdown",
   "id": "b0c52461-46ee-4b95-b5e2-39169cd5b8a7",
   "metadata": {},
   "source": [
    "## <span style=\"color: mediumseagreen\" id=\"corr\">Correlación</span>\n",
    "\n",
    "🏠 [Regresar al Índice](#INDICE)\n",
    "\n",
    "La correlación es una medida de la relación lineal entre dos variables aleatorias. Se define como el coeficiente de correlación de Pearson, que es una medida de la fuerza y la dirección de la relación entre dos variables.\n",
    "\n",
    "$r = \\frac{\\sum_{i=1}^n (X_i - \\mu_X)(Y_i - \\mu_Y)}{\\sqrt{\\sum_{i=1}^n (X_i - \\mu_X)^2} \\sqrt{\\sum_{i=1}^n (Y_i - \\mu_Y)^2}}$\n",
    "\n",
    "donde:\n",
    "\n",
    "* r es el coeficiente de correlación de Pearson.\n",
    "* $X_i$ es el valor i-ésimo de la variable aleatoria X.\n",
    "* $Y_i$ es el valor i-ésimo de la variable aleatoria Y.\n",
    "* $\\mu_X$ es la media de la variable aleatoria X.\n",
    "* $\\mu_Y$ es la media de la variable aleatoria Y.\n",
    "* n es el número de observaciones.\n",
    "\n",
    "Interpretación:\n",
    "\n",
    "* **Correlación positiva:** Las dos variables tienden a moverse en la misma dirección. A medida que un valor aumenta, el otro valor también aumenta.\n",
    "* **Correlación negativa:** Las dos variables tienden a moverse en direcciones opuestas. A medida que un valor aumenta, el otro valor disminuye.\n",
    "* **Correlación cero:** No hay relación lineal entre las dos variables.\n",
    "\n",
    "`Ejemplo`"
   ]
  },
  {
   "cell_type": "code",
   "execution_count": 96,
   "id": "53314960-7f02-4235-ac40-a0ff713f0268",
   "metadata": {
    "tags": []
   },
   "outputs": [
    {
     "name": "stdout",
     "output_type": "stream",
     "text": [
      "La correlación entre conjunto1 y conjunto2 es: -1.00\n"
     ]
    }
   ],
   "source": [
    "# Datos de ejemplo\n",
    "conjunto1 = np.array([1, 2, 3, 4, 5])\n",
    "conjunto2 = np.array([5, 4, 3, 2, 1])\n",
    "\n",
    "# Calcula la matriz de correlación\n",
    "matriz_correlacion = np.corrcoef(conjunto1, conjunto2)\n",
    "\n",
    "# La matriz de correlación tendrá la correlación entre conjunto1 y conjunto2 en la posición (0,1) y (1,0)\n",
    "correlacion = matriz_correlacion[0, 1]\n",
    "\n",
    "print(f\"La correlación entre conjunto1 y conjunto2 es: {correlacion:.2f}\")"
   ]
  }
 ],
 "metadata": {
  "kernelspec": {
   "display_name": "Python 3 (ipykernel)",
   "language": "python",
   "name": "python3"
  },
  "language_info": {
   "codemirror_mode": {
    "name": "ipython",
    "version": 3
   },
   "file_extension": ".py",
   "mimetype": "text/x-python",
   "name": "python",
   "nbconvert_exporter": "python",
   "pygments_lexer": "ipython3",
   "version": "3.10.13"
  },
  "toc-autonumbering": false
 },
 "nbformat": 4,
 "nbformat_minor": 5
}
